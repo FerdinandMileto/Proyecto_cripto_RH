{
 "cells": [
  {
   "cell_type": "markdown",
   "id": "0c0385d4",
   "metadata": {},
   "source": [
    "# DF CON VARIABLES DE 4 HORAS #"
   ]
  },
  {
   "cell_type": "code",
   "execution_count": null,
   "id": "f8207ec1",
   "metadata": {},
   "outputs": [],
   "source": [
    "#vamos a darle porcentaje a las variables de 4 horas:\n"
   ]
  },
  {
   "cell_type": "code",
   "execution_count": null,
   "id": "3621d66b",
   "metadata": {},
   "outputs": [],
   "source": []
  }
 ],
 "metadata": {
  "kernelspec": {
   "display_name": "base",
   "language": "python",
   "name": "python3"
  },
  "language_info": {
   "name": "python",
   "version": "3.13.5"
  }
 },
 "nbformat": 4,
 "nbformat_minor": 5
}
